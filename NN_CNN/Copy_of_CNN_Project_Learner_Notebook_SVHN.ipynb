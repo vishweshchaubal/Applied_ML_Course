{
  "cells": [
    {
      "cell_type": "markdown",
      "metadata": {
        "id": "Q91KqmCRu64D"
      },
      "source": [
        "# **Project - Convolutional Neural Networks: Street View Housing Number Digit Recognition**\n",
        "\n",
        "# Marks: 30\n",
        "\n",
        "Welcome to the project on classification using Convolutional Neural Networks. We will continue to work with the Street View Housing Numbers (SVHN) image dataset for this project.\n",
        "\n",
        "--------------\n",
        "### **Context:** \n",
        "--------------\n",
        "\n",
        "One of the most interesting tasks in deep learning is to recognize objects in natural scenes. The ability to process visual information using machine learning algorithms can be very useful as demonstrated in various applications.\n",
        "\n",
        "The SVHN dataset contains over 600,000 labeled digits cropped from street-level photos. It is one of the most popular image recognition datasets. It has been used in neural networks created by Google to improve map quality by automatically transcribing the address numbers from a patch of pixels. The transcribed number with a known street address helps pinpoint the location of the building it represents. \n",
        "\n",
        "----------------\n",
        "### **Objective:**\n",
        "----------------\n",
        "\n",
        "Build a CNN model that can identify the digits in the images.\n",
        "\n",
        "-------------\n",
        "### **Dataset**\n",
        "-------------\n",
        "Here, we will use a subset of the original data to save some computation time. The dataset is provided as a .h5 file. The basic preprocessing steps have been done."
      ]
    },
    {
      "cell_type": "markdown",
      "metadata": {
        "id": "8z2Z7-OAs8QG"
      },
      "source": [
        "## **Mount the drive**\n",
        "Let us start by mounting the drive and importing the necessary libraries."
      ]
    },
    {
      "cell_type": "code",
      "execution_count": 1,
      "metadata": {
        "colab": {
          "base_uri": "https://localhost:8080/"
        },
        "id": "03lDyQUuef7z",
        "outputId": "3c6aa8ef-0b63-427f-8bdc-7174a3a8a650"
      },
      "outputs": [
        {
          "name": "stdout",
          "output_type": "stream",
          "text": [
            "Mounted at /content/drive\n"
          ]
        }
      ],
      "source": [
        "from google.colab import drive\n",
        "drive.mount('/content/drive')"
      ]
    },
    {
      "cell_type": "markdown",
      "metadata": {
        "id": "C8U3DUa3eNsT"
      },
      "source": [
        "## **Importing libraries**"
      ]
    },
    {
      "cell_type": "code",
      "execution_count": 2,
      "metadata": {
        "id": "-dVzeuF3eQx1"
      },
      "outputs": [],
      "source": [
        "import numpy as np\n",
        "import pandas as pd\n",
        "import matplotlib.pyplot as plt\n",
        "import seaborn as sns\n",
        "\n",
        "from sklearn.model_selection import train_test_split\n",
        "from sklearn.preprocessing import MinMaxScaler\n",
        "\n",
        "import tensorflow as tf\n",
        "from tensorflow.keras.models import Sequential\n",
        "from tensorflow.keras.layers import Dense, Conv2D, MaxPool2D, BatchNormalization, Dropout, Flatten, LeakyReLU\n",
        "from tensorflow.keras.utils import to_categorical"
      ]
    },
    {
      "cell_type": "markdown",
      "metadata": {
        "id": "ucnevGLoyKf_"
      },
      "source": [
        "Let us check for the version of TensorFlow."
      ]
    },
    {
      "cell_type": "code",
      "execution_count": 3,
      "metadata": {
        "colab": {
          "base_uri": "https://localhost:8080/"
        },
        "id": "W5as47YxyJVk",
        "outputId": "0a67e7fc-bbac-4069-a6cf-ec0d8a637d7d"
      },
      "outputs": [
        {
          "name": "stdout",
          "output_type": "stream",
          "text": [
            "2.7.0\n"
          ]
        }
      ],
      "source": [
        "print(tf.__version__)"
      ]
    },
    {
      "cell_type": "markdown",
      "metadata": {
        "id": "8lsux2ZwyTTR"
      },
      "source": [
        "## **Load the dataset**\n",
        "- Let us now load the dataset that is available as a .h5 file.\n",
        "- Split the data into train and the test dataset"
      ]
    },
    {
      "cell_type": "code",
      "execution_count": 4,
      "metadata": {
        "id": "BApX9qgNsqV0",
        "scrolled": true
      },
      "outputs": [],
      "source": [
        "import h5py\n",
        "\n",
        "# Open the file as read only\n",
        "# User can make changes in the path as required\n",
        "h5f = h5py.File('/content/drive/My Drive/Copy of SVHN_single_grey1.h5', 'r')\n",
        "\n",
        "# Load the training and the test set\n",
        "X_train = h5f['X_train'][:]\n",
        "y_train = h5f['y_train'][:]\n",
        "X_test = h5f['X_test'][:]\n",
        "y_test = h5f['y_test'][:]\n",
        "\n",
        "\n",
        "# Close this file\n",
        "h5f.close()"
      ]
    },
    {
      "cell_type": "markdown",
      "metadata": {
        "id": "hVe0CYpUgj7w"
      },
      "source": [
        "Let's check the number of images in the training and testing data."
      ]
    },
    {
      "cell_type": "code",
      "execution_count": 5,
      "metadata": {
        "colab": {
          "base_uri": "https://localhost:8080/"
        },
        "id": "y3lwKpOefkpA",
        "outputId": "af418490-e027-4b36-8dfe-29ca9a51fd6b"
      },
      "outputs": [
        {
          "data": {
            "text/plain": [
              "(42000, 18000)"
            ]
          },
          "execution_count": 5,
          "metadata": {},
          "output_type": "execute_result"
        }
      ],
      "source": [
        "len(X_train), len(X_test)"
      ]
    },
    {
      "cell_type": "markdown",
      "metadata": {
        "id": "akTUOfLlgwoM"
      },
      "source": [
        "**Observations**\n",
        "- There are 42,000 images in the training data and 18,000 images in the testing data. "
      ]
    },
    {
      "cell_type": "markdown",
      "metadata": {
        "id": "kxODV6HKykuc"
      },
      "source": [
        "## **Visualizing images**\n",
        "- Use X_train to visualize the first 10 images\n",
        "- Use Y_train to print the first 10 labels"
      ]
    },
    {
      "cell_type": "markdown",
      "metadata": {
        "id": "Rn5IZYv-e2TC"
      },
      "source": [
        "#### **Question 1: Complete the below code to visualize the first 10 images from the training data (1 Mark)**"
      ]
    },
    {
      "cell_type": "code",
      "execution_count": 6,
      "metadata": {
        "colab": {
          "base_uri": "https://localhost:8080/",
          "height": 95
        },
        "id": "Bvsc8ytHsqWD",
        "outputId": "bafda55c-efcd-4c69-9d6c-327ce54ff791"
      },
      "outputs": [
        {
          "data": {
            "image/png": "[encoded data removed]",
            "text/plain": [
              "<Figure size 720x72 with 10 Axes>"
            ]
          },
          "metadata": {
            "needs_background": "light"
          },
          "output_type": "display_data"
        },
        {
          "name": "stdout",
          "output_type": "stream",
          "text": [
            "label for each of the above image: [2 6 7 4 4 0 3 0 7 3]\n"
          ]
        }
      ],
      "source": [
        "# visualizing the first 10 images in the dataset and their labels\n",
        "plt.figure(figsize=(10, 1))\n",
        "\n",
        "for i in range(10):\n",
        "    plt.subplot(1, 10, i+1)\n",
        "    plt.imshow(X_train[i], cmap=\"gray\") # write the function to visualize images\n",
        "    plt.axis('off')\n",
        "\n",
        "plt.show()\n",
        "print('label for each of the above image: %s' % (y_train[0:10]))"
      ]
    },
    {
      "cell_type": "markdown",
      "metadata": {
        "id": "kzoyeXHOy80N"
      },
      "source": [
        "## **Data Preparation**\n",
        "\n",
        "- Print the first image in the train image and figure out the shape of the images\n",
        "- Reshape the train and the test dataset to make them fit the first convolutional operation that we will create later. Figure out the required shape\n",
        "- Normalize the train and the test dataset by dividing by 255\n",
        "- Print the new shapes of the train and the test set\n",
        "- One-hot encode the target variable"
      ]
    },
    {
      "cell_type": "code",
      "execution_count": 7,
      "metadata": {
        "colab": {
          "base_uri": "https://localhost:8080/"
        },
        "id": "NqndzQXng9rL",
        "outputId": "6024e894-5fe9-4e19-b03c-7ae7d829b7d2"
      },
      "outputs": [
        {
          "name": "stdout",
          "output_type": "stream",
          "text": [
            "Shape: (32, 32)\n",
            "\n",
            "First image:\n",
            " [[ 33.0704  30.2601  26.852  ...  71.4471  58.2204  42.9939]\n",
            " [ 25.2283  25.5533  29.9765 ... 113.0209 103.3639  84.2949]\n",
            " [ 26.2775  22.6137  40.4763 ... 113.3028 121.775  115.4228]\n",
            " ...\n",
            " [ 28.5502  36.212   45.0801 ...  24.1359  25.0927  26.0603]\n",
            " [ 38.4352  26.4733  23.2717 ...  28.1094  29.4683  30.0661]\n",
            " [ 50.2984  26.0773  24.0389 ...  49.6682  50.853   53.0377]]\n"
          ]
        }
      ],
      "source": [
        "# Shape of the images and the first image\n",
        "\n",
        "print(\"Shape:\", X_train[0].shape)\n",
        "print()\n",
        "print(\"First image:\\n\", X_train[0])"
      ]
    },
    {
      "cell_type": "code",
      "execution_count": 8,
      "metadata": {
        "id": "D9YPwf9ysqWU"
      },
      "outputs": [],
      "source": [
        "# Reshaping the dataset to flatten them. Remember that we always have to give a 4D array as input to CNNs\n",
        "\n",
        "X_train = X_train.reshape(X_train.shape[0], 32,32,1)\n",
        "X_test = X_test.reshape(X_test.shape[0], 32,32,1)"
      ]
    },
    {
      "cell_type": "code",
      "execution_count": 9,
      "metadata": {
        "id": "q_yUUTp_mUzB"
      },
      "outputs": [],
      "source": [
        "# Normalize inputs from 0-255 to 0-1\n",
        "\n",
        "X_train = X_train / 255.0\n",
        "X_test = X_test / 255.0"
      ]
    },
    {
      "cell_type": "code",
      "execution_count": 10,
      "metadata": {
        "colab": {
          "base_uri": "https://localhost:8080/"
        },
        "id": "t7FSqOpamWkH",
        "outputId": "590e164d-48bd-45b2-fe44-a221db9e284c"
      },
      "outputs": [
        {
          "name": "stdout",
          "output_type": "stream",
          "text": [
            "Training set: (42000, 32, 32, 1) (42000,)\n",
            "Test set: (18000, 32, 32, 1) (18000,)\n"
          ]
        }
      ],
      "source": [
        "# New shape \n",
        "\n",
        "print('Training set:', X_train.shape, y_train.shape)\n",
        "print('Test set:', X_test.shape, y_test.shape)"
      ]
    },
    {
      "cell_type": "markdown",
      "metadata": {
        "id": "YP92jacue2TE"
      },
      "source": [
        "#### **Question 2: One-hot encode the labels in the target variable y_train and y_test (2 Marks)**"
      ]
    },
    {
      "cell_type": "code",
      "execution_count": 11,
      "metadata": {
        "colab": {
          "base_uri": "https://localhost:8080/"
        },
        "id": "zL0lYER4sqWw",
        "outputId": "5ef62982-e1ad-4b8c-a1ad-fc23357011ce"
      },
      "outputs": [
        {
          "data": {
            "text/plain": [
              "array([[0., 1., 0., ..., 0., 0., 0.],\n",
              "       [0., 0., 0., ..., 1., 0., 0.],\n",
              "       [0., 0., 1., ..., 0., 0., 0.],\n",
              "       ...,\n",
              "       [0., 0., 0., ..., 1., 0., 0.],\n",
              "       [0., 0., 0., ..., 0., 0., 1.],\n",
              "       [0., 0., 1., ..., 0., 0., 0.]], dtype=float32)"
            ]
          },
          "execution_count": 11,
          "metadata": {},
          "output_type": "execute_result"
        }
      ],
      "source": [
        "#Write the function and appropriate variable name to one-hot encode the output\n",
        "\n",
        "y_train = to_categorical(y_train)\n",
        "y_test = to_categorical(y_test)\n",
        "\n",
        "#test labels\n",
        "y_test"
      ]
    },
    {
      "cell_type": "markdown",
      "metadata": {
        "id": "ViqPOTquCF76"
      },
      "source": [
        "- Notice that each entry of y_test is a one-hot encoded vector instead of a single label."
      ]
    },
    {
      "cell_type": "markdown",
      "metadata": {
        "id": "yH-gVrzuByNA"
      },
      "source": [
        "## **Model Building**\n",
        "\n",
        "Now, we have done data preprocessing, let's build a CNN model."
      ]
    },
    {
      "cell_type": "code",
      "execution_count": 12,
      "metadata": {
        "id": "eaGr-3Noe2TF"
      },
      "outputs": [],
      "source": [
        "#Fixing the seed for random number generators\n",
        "np.random.seed(42)\n",
        "import random\n",
        "random.seed(42)\n",
        "tf.random.set_seed(42)"
      ]
    },
    {
      "cell_type": "markdown",
      "metadata": {
        "id": "UJDUoaEj1d6e"
      },
      "source": [
        "### **Model Architecture**\n",
        "- Write a function that returns a sequential model with the following architecture\n",
        " - First Convolutional layer with **16 filters and kernel size of 3x3**. Use the **'same' padding** and provide an **apt input shape**\n",
        " - Add a **LeakyRelu layer** with the **slope equal to 0.1**\n",
        " - Second Convolutional layer with **32 filters and kernel size of 3x3 with 'same' padding**\n",
        " - Another **LeakyRelu** with the **slope equal to 0.1**\n",
        " - A **max-pooling layer** with a **pool size of 2x2**\n",
        " - **Flatten** the output from the previous layer\n",
        " - Add a **dense layer with 32 nodes**\n",
        " - Add a **LeakyRelu layer with slope equal to 0.1**\n",
        " - Add the final **output layer with nodes equal to the number of classes** and **softmax activation**\n",
        " - Compile the model with the **categorical_crossentropy loss, adam optimizers (learning_rate = 0.001), and accuracy metric**. Do not fit the model here, just return the compiled model\n",
        "- Call the function and store the model in a new variable\n",
        "- Print the summary of the model.\n",
        "- Fit the model on the train data with a **validation split of 0.2, batch size = 32, verbose = 1, and 20 epochs**. Store the model building history to use later for visualization."
      ]
    },
    {
      "cell_type": "markdown",
      "metadata": {
        "id": "Uw8pZcNwe2TG"
      },
      "source": [
        "#### **Question 3: Build and train a CNN model as per the above mentioned architecture (10 Marks)**"
      ]
    },
    {
      "cell_type": "code",
      "execution_count": 22,
      "metadata": {
        "colab": {
          "base_uri": "https://localhost:8080/"
        },
        "id": "ot56pO0h45Iy",
        "outputId": "caa69922-6e58-48f4-9b73-9c05f35c2bc9"
      },
      "outputs": [
        {
          "data": {
            "text/plain": [
              "<tf.Tensor: shape=(1, 1, 1, 1), dtype=float32, numpy=array([[[[5.]]]], dtype=float32)>"
            ]
          },
          "execution_count": 22,
          "metadata": {},
          "output_type": "execute_result"
        }
      ],
      "source": [
        "x = tf.constant([[1., 2., 3.],\n",
        "                [4., 5., 6.],\n",
        "               [7., 8., 9.]])\n",
        "\n",
        "x = tf.reshape(x, [1, 3, 3, 1])\n",
        "\n",
        "max_pool_2d = tf.keras.layers.MaxPooling2D(pool_size=(2, 2))\n",
        "max_pool_2d(x)"
      ]
    },
    {
      "cell_type": "code",
      "execution_count": 23,
      "metadata": {
        "id": "Cmi81Gr5sqW-"
      },
      "outputs": [],
      "source": [
        "#Importing losses and optimizers modules\n",
        "from tensorflow.keras import losses\n",
        "from tensorflow.keras import optimizers\n",
        "\n",
        "#Define the function\n",
        "def cnn_model_1():\n",
        "    model = Sequential() \n",
        "    model.add(Conv2D(16,kernel_size=3,input_shape=(32,32,1),padding=\"same\"))\n",
        "    model.add(LeakyReLU(alpha=0.1))\n",
        "    model.add(Conv2D(32,kernel_size=3,padding=\"Same\"))\n",
        "    model.add(LeakyReLU(alpha=0.1))\n",
        "    model.add(MaxPool2D(pool_size=(2, 2)))\n",
        "    model.add(Flatten())\n",
        "    model.add(Dense(32))\n",
        "    model.add(LeakyReLU(alpha=0.1))\n",
        "    model.add(Dense(10, activation='softmax'))\n",
        "    #Add layers as per the architecture mentioned above in the same sequence\n",
        "    \n",
        "    #declare adam optimizer with learning rate of 0.001 \n",
        "    adam = optimizers.Adam(learning_rate=0.001)\n",
        "    \n",
        "    #compile the model\n",
        "    model.compile(loss='categorical_crossentropy', optimizer=adam,metrics=[\"accuracy\"])\n",
        "    \n",
        "    return model"
      ]
    },
    {
      "cell_type": "code",
      "execution_count": 24,
      "metadata": {
        "id": "bGCUI_xsImnH"
      },
      "outputs": [],
      "source": [
        "#Build the model\n",
        "model_1 = cnn_model_1()"
      ]
    },
    {
      "cell_type": "code",
      "execution_count": 25,
      "metadata": {
        "colab": {
          "base_uri": "https://localhost:8080/"
        },
        "id": "ckJsLdmdQadZ",
        "outputId": "64e848e1-0184-4f18-f211-f525b37fc0b8"
      },
      "outputs": [
        {
          "name": "stdout",
          "output_type": "stream",
          "text": [
            "Model: \"sequential_2\"\n",
            "_________________________________________________________________\n",
            " Layer (type)                Output Shape              Param #   \n",
            "=================================================================\n",
            " conv2d_4 (Conv2D)           (None, 32, 32, 16)        160       \n",
            "                                                                 \n",
            " leaky_re_lu_6 (LeakyReLU)   (None, 32, 32, 16)        0         \n",
            "                                                                 \n",
            " conv2d_5 (Conv2D)           (None, 32, 32, 32)        4640      \n",
            "                                                                 \n",
            " leaky_re_lu_7 (LeakyReLU)   (None, 32, 32, 32)        0         \n",
            "                                                                 \n",
            " max_pooling2d_4 (MaxPooling  (None, 16, 16, 32)       0         \n",
            " 2D)                                                             \n",
            "                                                                 \n",
            " flatten_2 (Flatten)         (None, 8192)              0         \n",
            "                                                                 \n",
            " dense_4 (Dense)             (None, 32)                262176    \n",
            "                                                                 \n",
            " leaky_re_lu_8 (LeakyReLU)   (None, 32)                0         \n",
            "                                                                 \n",
            " dense_5 (Dense)             (None, 10)                330       \n",
            "                                                                 \n",
            "=================================================================\n",
            "Total params: 267,306\n",
            "Trainable params: 267,306\n",
            "Non-trainable params: 0\n",
            "_________________________________________________________________\n"
          ]
        }
      ],
      "source": [
        "#Print the model summary\n",
        "model_1.summary()"
      ]
    },
    {
      "cell_type": "code",
      "execution_count": 26,
      "metadata": {
        "colab": {
          "base_uri": "https://localhost:8080/"
        },
        "id": "3Fy3Dif_zcCk",
        "outputId": "6b309d54-5d3b-4eca-e2dd-e79e5c65b787"
      },
      "outputs": [
        {
          "name": "stdout",
          "output_type": "stream",
          "text": [
            "Epoch 1/20\n",
            "1050/1050 [==============================] - 11s 10ms/step - loss: 1.0140 - accuracy: 0.6767 - val_loss: 0.6657 - val_accuracy: 0.8056\n",
            "Epoch 2/20\n",
            "1050/1050 [==============================] - 10s 10ms/step - loss: 0.5433 - accuracy: 0.8439 - val_loss: 0.5210 - val_accuracy: 0.8537\n",
            "Epoch 3/20\n",
            "1050/1050 [==============================] - 10s 10ms/step - loss: 0.4500 - accuracy: 0.8693 - val_loss: 0.4834 - val_accuracy: 0.8607\n",
            "Epoch 4/20\n",
            "1050/1050 [==============================] - 10s 10ms/step - loss: 0.3949 - accuracy: 0.8856 - val_loss: 0.4496 - val_accuracy: 0.8715\n",
            "Epoch 5/20\n",
            "1050/1050 [==============================] - 10s 10ms/step - loss: 0.3485 - accuracy: 0.8965 - val_loss: 0.4574 - val_accuracy: 0.8719\n",
            "Epoch 6/20\n",
            "1050/1050 [==============================] - 10s 10ms/step - loss: 0.3076 - accuracy: 0.9083 - val_loss: 0.4594 - val_accuracy: 0.8712\n",
            "Epoch 7/20\n",
            "1050/1050 [==============================] - 10s 10ms/step - loss: 0.2768 - accuracy: 0.9168 - val_loss: 0.4344 - val_accuracy: 0.8793\n",
            "Epoch 8/20\n",
            "1050/1050 [==============================] - 10s 10ms/step - loss: 0.2444 - accuracy: 0.9251 - val_loss: 0.4671 - val_accuracy: 0.8719\n",
            "Epoch 9/20\n",
            "1050/1050 [==============================] - 10s 10ms/step - loss: 0.2210 - accuracy: 0.9316 - val_loss: 0.4927 - val_accuracy: 0.8761\n",
            "Epoch 10/20\n",
            "1050/1050 [==============================] - 10s 10ms/step - loss: 0.1956 - accuracy: 0.9393 - val_loss: 0.4973 - val_accuracy: 0.8758\n",
            "Epoch 11/20\n",
            "1050/1050 [==============================] - 10s 10ms/step - loss: 0.1728 - accuracy: 0.9463 - val_loss: 0.5225 - val_accuracy: 0.8704\n",
            "Epoch 12/20\n",
            "1050/1050 [==============================] - 10s 9ms/step - loss: 0.1527 - accuracy: 0.9518 - val_loss: 0.5625 - val_accuracy: 0.8757\n",
            "Epoch 13/20\n",
            "1050/1050 [==============================] - 10s 10ms/step - loss: 0.1408 - accuracy: 0.9553 - val_loss: 0.6325 - val_accuracy: 0.8662\n",
            "Epoch 14/20\n",
            "1050/1050 [==============================] - 10s 10ms/step - loss: 0.1253 - accuracy: 0.9603 - val_loss: 0.6181 - val_accuracy: 0.8744\n",
            "Epoch 15/20\n",
            "1050/1050 [==============================] - 10s 10ms/step - loss: 0.1114 - accuracy: 0.9646 - val_loss: 0.6744 - val_accuracy: 0.8674\n",
            "Epoch 16/20\n",
            "1050/1050 [==============================] - 10s 9ms/step - loss: 0.1041 - accuracy: 0.9668 - val_loss: 0.6943 - val_accuracy: 0.8721\n",
            "Epoch 17/20\n",
            "1050/1050 [==============================] - 10s 10ms/step - loss: 0.0906 - accuracy: 0.9708 - val_loss: 0.7234 - val_accuracy: 0.8682\n",
            "Epoch 18/20\n",
            "1050/1050 [==============================] - 10s 10ms/step - loss: 0.0835 - accuracy: 0.9724 - val_loss: 0.7626 - val_accuracy: 0.8713\n",
            "Epoch 19/20\n",
            "1050/1050 [==============================] - 10s 10ms/step - loss: 0.0770 - accuracy: 0.9749 - val_loss: 0.7866 - val_accuracy: 0.8701\n",
            "Epoch 20/20\n",
            "1050/1050 [==============================] - 10s 10ms/step - loss: 0.0692 - accuracy: 0.9770 - val_loss: 0.8286 - val_accuracy: 0.8696\n"
          ]
        }
      ],
      "source": [
        "# Fit the model\n",
        "history_model_1 = model_1.fit(X_train,y_train,epochs=20,batch_size=32,verbose=1,validation_split=0.2)"
      ]
    },
    {
      "cell_type": "markdown",
      "metadata": {
        "id": "tKOckG-KPyLg"
      },
      "source": [
        "### **Plotting the validation and training accuracies**"
      ]
    },
    {
      "cell_type": "markdown",
      "metadata": {
        "id": "sVyQ9Gpge2TI"
      },
      "source": [
        "#### **Question 4: Write your observations on the below plot (2 Marks)**"
      ]
    },
    {
      "cell_type": "code",
      "execution_count": 29,
      "metadata": {
        "colab": {
          "base_uri": "https://localhost:8080/",
          "height": 497
        },
        "id": "lt77zgGMP4yw",
        "outputId": "8712b770-e085-419a-de81-63904a787432"
      },
      "outputs": [
        {
          "data": {
            "image/png": "[encoded data removed]",
            "text/plain": [
              "<Figure size 576x576 with 1 Axes>"
            ]
          },
          "metadata": {
            "needs_background": "light"
          },
          "output_type": "display_data"
        }
      ],
      "source": [
        "# plotting the accuracies\n",
        "\n",
        "dict_hist = history_model_1.history\n",
        "list_ep = [i for i in range(1,21)]\n",
        "\n",
        "plt.figure(figsize = (8,8))\n",
        "plt.plot(list_ep,dict_hist['accuracy'],ls = '--', label = 'accuracy')\n",
        "plt.plot(list_ep,dict_hist['val_accuracy'],ls = '--', label = 'val_accuracy')\n",
        "plt.ylabel('Accuracy')\n",
        "plt.xlabel('Epochs')\n",
        "plt.legend()\n",
        "plt.show()"
      ]
    },
    {
      "cell_type": "markdown",
      "metadata": {
        "id": "pGBbQpLONX7k"
      },
      "source": [
        "**Observations:\n",
        "- We ran 20 epochs and as can be seen from the accuracy metric, our Train data does quite well 0.97, however, Cross Validation accuracy at the end of epoch 20 is only 0.84. This can also be seen with the cross entropy loss. \n",
        "- Our model is overfitted, this can be seen by the difference in the accuracy or loss graphs for Train vs Cross Val. Cross Validation accuracy is not comparable to Train accuracy, this suggests that we are also fitting our model on the noise in our Training set. \n"
      ]
    },
    {
      "cell_type": "markdown",
      "metadata": {
        "id": "z0qgLMBZm5-K"
      },
      "source": [
        "Let's build another model and see if we can get a better model with generalized performance.\n",
        "\n",
        "First, we need to clear the previous model's history from the keras backend. Also, let's fix the seed again after clearing the backend."
      ]
    },
    {
      "cell_type": "code",
      "execution_count": 57,
      "metadata": {
        "id": "y98BpLxsok_H"
      },
      "outputs": [],
      "source": [
        "#Clearing backend\n",
        "from tensorflow.keras import backend\n",
        "backend.clear_session()"
      ]
    },
    {
      "cell_type": "code",
      "execution_count": 58,
      "metadata": {
        "id": "HbKi93HTolGW"
      },
      "outputs": [],
      "source": [
        "#Fixing the seed for random number generators\n",
        "np.random.seed(42)\n",
        "import random\n",
        "random.seed(42)\n",
        "tf.random.set_seed(42)"
      ]
    },
    {
      "cell_type": "markdown",
      "metadata": {
        "id": "lT6o3TIKuCtk"
      },
      "source": [
        "### **Second Model Architecture**\n",
        "- Write a function that returns a sequential model with the following architecture\n",
        " - First Convolutional layer with **16 filters and kernel size of 3x3**. Use the **'same' padding** and provide an **apt input shape**\n",
        " - Add a **LeakyRelu layer** with the **slope equal to 0.1**\n",
        " - Second Convolutional layer with **32 filters and kernel size of 3x3 with 'same' padding**\n",
        " - Add **LeakyRelu** with the **slope equal to 0.1**\n",
        " - Add a **max-pooling layer** with a **pool size of 2x2**\n",
        " - Add a **BatchNormalization layer**\n",
        " - Third Convolutional layer with **32 filters and kernel size of 3x3 with 'same' padding**\n",
        " - Add a **LeakyRelu layer with slope equal to 0.1**\n",
        " - Fourth Convolutional layer **64 filters and kernel size of 3x3 with 'same' padding** \n",
        " - Add a **LeakyRelu layer with slope equal to 0.1**\n",
        " - Add a **max-pooling layer** with a **pool size of 2x2**\n",
        " - Add a **BatchNormalization layer**\n",
        " - **Flatten** the output from the previous layer\n",
        " - Add a **dense layer with 32 nodes**\n",
        " - Add a **LeakyRelu layer with slope equal to 0.1**\n",
        " - Add a **dropout layer with rate equal to 0.5**\n",
        " - Add the final **output layer with nodes equal to the number of classes** and **softmax activation**\n",
        " - Compile the model with the **categorical_crossentropy loss, adam optimizers (learning_rate = 0.001), and accuracy metric**. Do not fit the model here, just return the compiled model\n",
        "- Call the function and store the model in a new variable\n",
        "- Print the summary of the model.\n",
        "- Fit the model on the train data with a **validation split of 0.2, batch size = 128, verbose = 1, and 30 epochs**. Store the model building history to use later for visualization."
      ]
    },
    {
      "cell_type": "markdown",
      "metadata": {
        "id": "Sr-bwBT2e2TJ"
      },
      "source": [
        "#### **Question 5: Build and train the second CNN model as per the above mentioned architecture (10 Marks)**"
      ]
    },
    {
      "cell_type": "code",
      "execution_count": 59,
      "metadata": {
        "id": "EEPYLFIPnSDP"
      },
      "outputs": [],
      "source": [
        "#Define the function\n",
        "def cnn_model_2():\n",
        "    model = Sequential() \n",
        "    model.add(Conv2D(16,kernel_size=3,input_shape=(32,32,1),padding=\"same\"))\n",
        "    model.add(LeakyReLU(alpha=0.1))\n",
        "    model.add(Dropout(0.3)) # adding dropout to reduce overfitting\n",
        "    model.add(Conv2D(32,kernel_size=3,padding=\"Same\"))\n",
        "    model.add(LeakyReLU(alpha=0.1))\n",
        "    model.add(MaxPool2D(pool_size=(2, 2),strides=(1,1)))\n",
        "    model.add(BatchNormalization())\n",
        "    model.add(Conv2D(32,kernel_size=3,padding=\"Same\"))\n",
        "    model.add(LeakyReLU(alpha=0.1))\n",
        "    model.add(Dropout(0.3)) # adding dropout to reduce overfitting\n",
        "    model.add(Conv2D(64,kernel_size=3,padding=\"Same\"))\n",
        "    model.add(LeakyReLU(alpha=0.1))\n",
        "    model.add(MaxPool2D(pool_size=(2, 2),strides=(1,1)))\n",
        "    model.add(BatchNormalization())\n",
        "    model.add(Flatten())\n",
        "    model.add(Dense(32))\n",
        "    model.add(LeakyReLU(alpha=0.1))\n",
        "    model.add(Dropout(0.5))\n",
        "    model.add(Dense(10, activation='softmax'))\n",
        "    #Add layers as per the architecture mentioned above in the same sequence\n",
        "    \n",
        "    #declare adam optimizer with learning rate of 0.001 \n",
        "    adam = optimizers.Adam(learning_rate=0.001)\n",
        "    \n",
        "    #compile the model\n",
        "    model.compile(loss='categorical_crossentropy', optimizer=adam,metrics=[\"accuracy\"])\n",
        "    \n",
        "    return model"
      ]
    },
    {
      "cell_type": "code",
      "execution_count": 60,
      "metadata": {
        "id": "AKjDY4plnSFl"
      },
      "outputs": [],
      "source": [
        "# Build the model\n",
        "model_2 = cnn_model_2()"
      ]
    },
    {
      "cell_type": "code",
      "execution_count": 61,
      "metadata": {
        "colab": {
          "base_uri": "https://localhost:8080/"
        },
        "id": "gz_6SVrU2swZ",
        "outputId": "de64f071-5bce-41ec-9898-4a242c69a14e"
      },
      "outputs": [
        {
          "name": "stdout",
          "output_type": "stream",
          "text": [
            "Model: \"sequential\"\n",
            "_________________________________________________________________\n",
            " Layer (type)                Output Shape              Param #   \n",
            "=================================================================\n",
            " conv2d (Conv2D)             (None, 32, 32, 16)        160       \n",
            "                                                                 \n",
            " leaky_re_lu (LeakyReLU)     (None, 32, 32, 16)        0         \n",
            "                                                                 \n",
            " dropout (Dropout)           (None, 32, 32, 16)        0         \n",
            "                                                                 \n",
            " conv2d_1 (Conv2D)           (None, 32, 32, 32)        4640      \n",
            "                                                                 \n",
            " leaky_re_lu_1 (LeakyReLU)   (None, 32, 32, 32)        0         \n",
            "                                                                 \n",
            " max_pooling2d (MaxPooling2D  (None, 31, 31, 32)       0         \n",
            " )                                                               \n",
            "                                                                 \n",
            " batch_normalization (BatchN  (None, 31, 31, 32)       128       \n",
            " ormalization)                                                   \n",
            "                                                                 \n",
            " conv2d_2 (Conv2D)           (None, 31, 31, 32)        9248      \n",
            "                                                                 \n",
            " leaky_re_lu_2 (LeakyReLU)   (None, 31, 31, 32)        0         \n",
            "                                                                 \n",
            " dropout_1 (Dropout)         (None, 31, 31, 32)        0         \n",
            "                                                                 \n",
            " conv2d_3 (Conv2D)           (None, 31, 31, 64)        18496     \n",
            "                                                                 \n",
            " leaky_re_lu_3 (LeakyReLU)   (None, 31, 31, 64)        0         \n",
            "                                                                 \n",
            " max_pooling2d_1 (MaxPooling  (None, 30, 30, 64)       0         \n",
            " 2D)                                                             \n",
            "                                                                 \n",
            " batch_normalization_1 (Batc  (None, 30, 30, 64)       256       \n",
            " hNormalization)                                                 \n",
            "                                                                 \n",
            " flatten (Flatten)           (None, 57600)             0         \n",
            "                                                                 \n",
            " dense (Dense)               (None, 32)                1843232   \n",
            "                                                                 \n",
            " leaky_re_lu_4 (LeakyReLU)   (None, 32)                0         \n",
            "                                                                 \n",
            " dropout_2 (Dropout)         (None, 32)                0         \n",
            "                                                                 \n",
            " dense_1 (Dense)             (None, 10)                330       \n",
            "                                                                 \n",
            "=================================================================\n",
            "Total params: 1,876,490\n",
            "Trainable params: 1,876,298\n",
            "Non-trainable params: 192\n",
            "_________________________________________________________________\n"
          ]
        }
      ],
      "source": [
        "#Print the summary\n",
        "model_2.summary()"
      ]
    },
    {
      "cell_type": "code",
      "execution_count": 62,
      "metadata": {
        "colab": {
          "base_uri": "https://localhost:8080/"
        },
        "id": "IQ0Sc4R-y-uu",
        "outputId": "6181bdf1-bff8-4a43-8f24-0d97327c31c7"
      },
      "outputs": [
        {
          "name": "stdout",
          "output_type": "stream",
          "text": [
            "Epoch 1/30\n",
            "263/263 [==============================] - 15s 51ms/step - loss: 2.7650 - accuracy: 0.1751 - val_loss: 7.6790 - val_accuracy: 0.1081\n",
            "Epoch 2/30\n",
            "263/263 [==============================] - 13s 49ms/step - loss: 1.2426 - accuracy: 0.6302 - val_loss: 1.1916 - val_accuracy: 0.6702\n",
            "Epoch 3/30\n",
            "263/263 [==============================] - 13s 50ms/step - loss: 0.8642 - accuracy: 0.7371 - val_loss: 0.7405 - val_accuracy: 0.7911\n",
            "Epoch 4/30\n",
            "263/263 [==============================] - 13s 50ms/step - loss: 0.7208 - accuracy: 0.7806 - val_loss: 0.5510 - val_accuracy: 0.8527\n",
            "Epoch 5/30\n",
            "263/263 [==============================] - 13s 49ms/step - loss: 0.6323 - accuracy: 0.8020 - val_loss: 0.5956 - val_accuracy: 0.8304\n",
            "Epoch 6/30\n",
            "263/263 [==============================] - 13s 49ms/step - loss: 0.5860 - accuracy: 0.8198 - val_loss: 0.4652 - val_accuracy: 0.8640\n",
            "Epoch 7/30\n",
            "263/263 [==============================] - 13s 50ms/step - loss: 0.5446 - accuracy: 0.8326 - val_loss: 0.4619 - val_accuracy: 0.8689\n",
            "Epoch 8/30\n",
            "263/263 [==============================] - 13s 49ms/step - loss: 0.5134 - accuracy: 0.8402 - val_loss: 0.4668 - val_accuracy: 0.8681\n",
            "Epoch 9/30\n",
            "263/263 [==============================] - 13s 49ms/step - loss: 0.4893 - accuracy: 0.8466 - val_loss: 0.4495 - val_accuracy: 0.8800\n",
            "Epoch 10/30\n",
            "263/263 [==============================] - 13s 49ms/step - loss: 0.4628 - accuracy: 0.8550 - val_loss: 0.3946 - val_accuracy: 0.8917\n",
            "Epoch 11/30\n",
            "263/263 [==============================] - 13s 49ms/step - loss: 0.4405 - accuracy: 0.8621 - val_loss: 0.4171 - val_accuracy: 0.8858\n",
            "Epoch 12/30\n",
            "263/263 [==============================] - 13s 50ms/step - loss: 0.4345 - accuracy: 0.8637 - val_loss: 0.4640 - val_accuracy: 0.8792\n",
            "Epoch 13/30\n",
            "263/263 [==============================] - 13s 49ms/step - loss: 0.4187 - accuracy: 0.8672 - val_loss: 0.4385 - val_accuracy: 0.8850\n",
            "Epoch 14/30\n",
            "263/263 [==============================] - 13s 49ms/step - loss: 0.4014 - accuracy: 0.8728 - val_loss: 0.4115 - val_accuracy: 0.8921\n",
            "Epoch 15/30\n",
            "263/263 [==============================] - 13s 49ms/step - loss: 0.3918 - accuracy: 0.8749 - val_loss: 0.4280 - val_accuracy: 0.8894\n",
            "Epoch 16/30\n",
            "263/263 [==============================] - 13s 49ms/step - loss: 0.3780 - accuracy: 0.8809 - val_loss: 0.4013 - val_accuracy: 0.8894\n",
            "Epoch 17/30\n",
            "263/263 [==============================] - 13s 49ms/step - loss: 0.3743 - accuracy: 0.8805 - val_loss: 0.4180 - val_accuracy: 0.8942\n",
            "Epoch 18/30\n",
            "263/263 [==============================] - 13s 50ms/step - loss: 0.3597 - accuracy: 0.8848 - val_loss: 0.4441 - val_accuracy: 0.8851\n",
            "Epoch 19/30\n",
            "263/263 [==============================] - 13s 49ms/step - loss: 0.3442 - accuracy: 0.8894 - val_loss: 0.4458 - val_accuracy: 0.8827\n",
            "Epoch 20/30\n",
            "263/263 [==============================] - 13s 49ms/step - loss: 0.3481 - accuracy: 0.8892 - val_loss: 0.3862 - val_accuracy: 0.8955\n",
            "Epoch 21/30\n",
            "263/263 [==============================] - 13s 49ms/step - loss: 0.3329 - accuracy: 0.8925 - val_loss: 0.3699 - val_accuracy: 0.9021\n",
            "Epoch 22/30\n",
            "263/263 [==============================] - 13s 49ms/step - loss: 0.3222 - accuracy: 0.8954 - val_loss: 0.4455 - val_accuracy: 0.8836\n",
            "Epoch 23/30\n",
            "263/263 [==============================] - 13s 49ms/step - loss: 0.3188 - accuracy: 0.8968 - val_loss: 0.4048 - val_accuracy: 0.8996\n",
            "Epoch 24/30\n",
            "263/263 [==============================] - 13s 49ms/step - loss: 0.3182 - accuracy: 0.8981 - val_loss: 0.4079 - val_accuracy: 0.8980\n",
            "Epoch 25/30\n",
            "263/263 [==============================] - 13s 49ms/step - loss: 0.3017 - accuracy: 0.9037 - val_loss: 0.3769 - val_accuracy: 0.9018\n",
            "Epoch 26/30\n",
            "263/263 [==============================] - 13s 49ms/step - loss: 0.2964 - accuracy: 0.9048 - val_loss: 0.3901 - val_accuracy: 0.9013\n",
            "Epoch 27/30\n",
            "263/263 [==============================] - 13s 49ms/step - loss: 0.2889 - accuracy: 0.9060 - val_loss: 0.4027 - val_accuracy: 0.9056\n",
            "Epoch 28/30\n",
            "263/263 [==============================] - 13s 50ms/step - loss: 0.2903 - accuracy: 0.9060 - val_loss: 0.4302 - val_accuracy: 0.8970\n",
            "Epoch 29/30\n",
            "263/263 [==============================] - 13s 49ms/step - loss: 0.2837 - accuracy: 0.9101 - val_loss: 0.4277 - val_accuracy: 0.8913\n",
            "Epoch 30/30\n",
            "263/263 [==============================] - 13s 50ms/step - loss: 0.2807 - accuracy: 0.9075 - val_loss: 0.4433 - val_accuracy: 0.8914\n"
          ]
        }
      ],
      "source": [
        "# Fit the model\n",
        "history_model_2 = model_2.fit(X_train,y_train,epochs=30,batch_size=128,verbose=1,validation_split=0.2)"
      ]
    },
    {
      "cell_type": "markdown",
      "metadata": {
        "id": "0_f1EXmTe2TK"
      },
      "source": [
        "### **Plotting the validation and training accuracies**"
      ]
    },
    {
      "cell_type": "markdown",
      "metadata": {
        "id": "aC5UbsqXe2TK"
      },
      "source": [
        "#### **Question 6: Write your observations on the below plot (2 Marks)**"
      ]
    },
    {
      "cell_type": "code",
      "execution_count": 63,
      "metadata": {
        "colab": {
          "base_uri": "https://localhost:8080/",
          "height": 497
        },
        "id": "01ig6BrF1KVy",
        "outputId": "e24584e9-d9b3-4034-a624-a581ef18d86a"
      },
      "outputs": [
        {
          "data": {
            "image/png": "[encoded data removed]",
            "text/plain": [
              "<Figure size 576x576 with 1 Axes>"
            ]
          },
          "metadata": {
            "needs_background": "light"
          },
          "output_type": "display_data"
        }
      ],
      "source": [
        "# plotting the accuracies\n",
        "\n",
        "dict_hist = history_model_2.history\n",
        "list_ep = [i for i in range(1,31)]\n",
        "\n",
        "plt.figure(figsize = (8,8))\n",
        "plt.plot(list_ep,dict_hist['accuracy'],ls = '--', label = 'accuracy')\n",
        "plt.plot(list_ep,dict_hist['val_accuracy'],ls = '--', label = 'val_accuracy')\n",
        "plt.ylabel('Accuracy')\n",
        "plt.xlabel('Epochs')\n",
        "plt.legend()\n",
        "plt.show()"
      ]
    },
    {
      "cell_type": "markdown",
      "metadata": {
        "id": "VPW1LlD61RDn"
      },
      "source": [
        "**Observations:\n",
        "- In this model we get a Train vs Cross Val score which is very similar, as can be seen, by the end of the 30th epoch both train and CV accuracy is close to 0.90\n",
        "- We can consider this model to be Good. \n",
        "- Even though we added many more conv2D layers, our  execution time did not increase massively, this is because of BatchNormalizations."
      ]
    },
    {
      "cell_type": "markdown",
      "metadata": {
        "id": "8kuXx9Bvu00f"
      },
      "source": [
        "## **Predictions on the test data**\n",
        "\n",
        "- Make predictions on the test set using the second model\n",
        "- Print the obtained results using the classification report and the confusion matrix\n",
        "- Final observations from the obtained results"
      ]
    },
    {
      "cell_type": "markdown",
      "metadata": {
        "id": "yfZwC9OUe2TL"
      },
      "source": [
        "#### **Question 7: Make predictions on the test data using the second model (1 Mark)**"
      ]
    },
    {
      "cell_type": "code",
      "execution_count": 64,
      "metadata": {
        "id": "xbWMEtTj5Ad0"
      },
      "outputs": [],
      "source": [
        "#Make prediction on the test data using model_2 \n",
        "test_pred = model_2.predict(X_test)\n",
        "\n",
        "test_pred = np.argmax(test_pred, axis=-1)"
      ]
    },
    {
      "cell_type": "markdown",
      "metadata": {
        "id": "i3li8Ib08yts"
      },
      "source": [
        "**Note:** Earlier, we noticed that each entry of the test data is a one-hot encoded vector but to print the classification report and confusion matrix, we must convert each entry of y_test to a single label."
      ]
    },
    {
      "cell_type": "code",
      "execution_count": 65,
      "metadata": {
        "id": "NByu7uAQ8x9P"
      },
      "outputs": [],
      "source": [
        "#Converting each entry to single label from one-hot encoded vector\n",
        "y_test = np.argmax(y_test, axis=-1)"
      ]
    },
    {
      "cell_type": "markdown",
      "metadata": {
        "id": "yHDUEma0e2TM"
      },
      "source": [
        "#### **Question 8: Write your final observations on the performance of the model on the test data (2 Marks)**"
      ]
    },
    {
      "cell_type": "code",
      "execution_count": 66,
      "metadata": {
        "colab": {
          "base_uri": "https://localhost:8080/",
          "height": 623
        },
        "id": "xRddeJ-3EHT1",
        "outputId": "30b184dc-d75f-47a5-8e4d-3ed98808fa00"
      },
      "outputs": [
        {
          "name": "stdout",
          "output_type": "stream",
          "text": [
            "              precision    recall  f1-score   support\n",
            "\n",
            "           0       0.87      0.95      0.91      1814\n",
            "           1       0.91      0.90      0.90      1828\n",
            "           2       0.91      0.92      0.92      1803\n",
            "           3       0.93      0.82      0.87      1719\n",
            "           4       0.94      0.90      0.92      1812\n",
            "           5       0.92      0.87      0.90      1768\n",
            "           6       0.88      0.90      0.89      1832\n",
            "           7       0.94      0.91      0.92      1808\n",
            "           8       0.83      0.91      0.87      1812\n",
            "           9       0.87      0.91      0.89      1804\n",
            "\n",
            "    accuracy                           0.90     18000\n",
            "   macro avg       0.90      0.90      0.90     18000\n",
            "weighted avg       0.90      0.90      0.90     18000\n",
            "\n"
          ]
        },
        {
          "data": {
            "image/png": "[encoded data removed]",
            "text/plain": [
              "<Figure size 576x360 with 2 Axes>"
            ]
          },
          "metadata": {
            "needs_background": "light"
          },
          "output_type": "display_data"
        }
      ],
      "source": [
        "#importing required functions\n",
        "from sklearn.metrics import classification_report\n",
        "from sklearn.metrics import confusion_matrix\n",
        "\n",
        "#Printing the classification report\n",
        "print(classification_report(y_test, test_pred))\n",
        "\n",
        "#Plotting the heatmap using confusion matrix\n",
        "cm = confusion_matrix(y_test, test_pred)\n",
        "plt.figure(figsize=(8,5))\n",
        "sns.heatmap(cm, annot=True,  fmt='.0f')\n",
        "plt.ylabel('Actual')\n",
        "plt.xlabel('Predicted')\n",
        "plt.show()"
      ]
    },
    {
      "cell_type": "markdown",
      "metadata": {
        "id": "DjErl4GA2u9s"
      },
      "source": [
        "#### **Observations:\n",
        "- We have an accuracy of 0.90 on the test data which is similar to the accuracy on the train data. \n",
        "- Compared to FFNN from the previous project we get much better performance with CNN's. This can be seen from the confusion matrix and recall scores. \n",
        "- We get best performance on digit 0 with a recall of 0.95 on the test data.\n",
        "- lowest performance on digit 3 with a recall of 0.82, most misclassifications for this are with digit 5 and digit 8. \n"
      ]
    },
    {
      "cell_type": "code",
      "execution_count": 2,
      "metadata": {},
      "outputs": [
        {
          "data": {
            "text/plain": [
              "0"
            ]
          },
          "execution_count": 2,
          "metadata": {},
          "output_type": "execute_result"
        }
      ],
      "source": [
        "import os\n",
        "os.system('jupyter nbconvert --to html Copy_of_CNN_Project_Learner_Notebook_SVHN.ipynb')\n"
      ]
    },
    {
      "cell_type": "code",
      "execution_count": null,
      "metadata": {},
      "outputs": [],
      "source": []
    }
  ],
  "metadata": {
    "accelerator": "GPU",
    "colab": {
      "collapsed_sections": [
        "8z2Z7-OAs8QG",
        "C8U3DUa3eNsT",
        "8lsux2ZwyTTR",
        "kxODV6HKykuc",
        "Rn5IZYv-e2TC",
        "kzoyeXHOy80N",
        "YP92jacue2TE",
        "yH-gVrzuByNA",
        "Uw8pZcNwe2TG",
        "sVyQ9Gpge2TI",
        "lT6o3TIKuCtk",
        "Sr-bwBT2e2TJ",
        "aC5UbsqXe2TK",
        "8kuXx9Bvu00f",
        "yfZwC9OUe2TL",
        "yHDUEma0e2TM"
      ],
      "name": "Copy of CNN_Project_Learner_Notebook_SVHN.ipynb",
      "provenance": []
    },
    "kernelspec": {
      "display_name": "Python 3",
      "language": "python",
      "name": "python3"
    },
    "language_info": {
      "codemirror_mode": {
        "name": "ipython",
        "version": 3
      },
      "file_extension": ".py",
      "mimetype": "text/x-python",
      "name": "python",
      "nbconvert_exporter": "python",
      "pygments_lexer": "ipython3",
      "version": "3.7.11"
    }
  },
  "nbformat": 4,
  "nbformat_minor": 0
}
